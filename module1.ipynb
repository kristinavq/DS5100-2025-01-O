{
  "cells": [
    {
      "cell_type": "markdown",
      "metadata": {
        "id": "view-in-github",
        "colab_type": "text"
      },
      "source": [
        "<a href=\"https://colab.research.google.com/github/kristinavq/DS5100-2025-01-O/blob/main/module1.ipynb\" target=\"_parent\"><img src=\"https://colab.research.google.com/assets/colab-badge.svg\" alt=\"Open In Colab\"/></a>"
      ]
    },
    {
      "cell_type": "markdown",
      "id": "cc4eac79-ebd8-4015-bcc9-cd5d0162aed2",
      "metadata": {
        "editable": true,
        "panel-layout": {
          "height": 120.9666748046875,
          "visible": true,
          "width": 100
        },
        "tags": [],
        "id": "cc4eac79-ebd8-4015-bcc9-cd5d0162aed2"
      },
      "source": [
        "# Module 1\n",
        "\n",
        "## DS-6040\n",
        "### Bayesian Machine learning\n"
      ]
    },
    {
      "cell_type": "markdown",
      "id": "538a7e1e",
      "metadata": {
        "editable": true,
        "panel-layout": {
          "height": 60.616668701171875,
          "visible": true,
          "width": 100
        },
        "tags": [],
        "id": "538a7e1e"
      },
      "source": [
        "# Big Picture Stuff..."
      ]
    },
    {
      "cell_type": "markdown",
      "id": "351a1344-c638-4d78-a035-20da30afd9de",
      "metadata": {
        "panel-layout": {
          "height": 153.0333251953125,
          "visible": true,
          "width": 100
        },
        "id": "351a1344-c638-4d78-a035-20da30afd9de"
      },
      "source": [
        "## What is ML?\n",
        "\n",
        "- machine learning draws inference about data using statistical models\n",
        "- statistical models are probabilistic, and involve unknown parameters and known (and sometimes  unknown!) data\n",
        "- inferences can be made about unknown **data** (e.g. prediction, forecasting, etc.)\n",
        "- inferences can also be about unknown **parameters**"
      ]
    },
    {
      "cell_type": "markdown",
      "id": "73301110",
      "metadata": {
        "panel-layout": {
          "height": 130.73333740234375,
          "visible": true,
          "width": 100
        },
        "id": "73301110"
      },
      "source": [
        "## When is ML <ins>Bayesian</ins>?\n",
        "\n",
        "Bayesian ML is when you put probability distributions on **everything that's unknown.** In particular, we don't avoid talking about the randomness of model parameters like frequentists do!\n",
        "\n",
        "Bayesian ML is **not** just when you use Bayes' rule in some shape or form.\n"
      ]
    },
    {
      "cell_type": "markdown",
      "id": "5e4183a8",
      "metadata": {
        "panel-layout": {
          "height": 135.88333129882812,
          "visible": true,
          "width": 100
        },
        "id": "5e4183a8"
      },
      "source": [
        "## When is it better to be Bayesian?\n",
        "\n",
        " 1. Sometimes it \"works better\"\n",
        " 2. Sometimes it's the same as being frequentist\n",
        " 3. The theory can be more natural and general\n",
        " 4. You're probably already Bayesian (at least a little)"
      ]
    },
    {
      "cell_type": "markdown",
      "id": "8a4cbffb",
      "metadata": {
        "panel-layout": {
          "height": 235.3333282470703,
          "visible": true,
          "width": 100
        },
        "id": "8a4cbffb"
      },
      "source": [
        "## Starting Simply\n",
        "\n",
        "Let's call\n",
        " - $y$ all of our data\n",
        " - $\\theta$ all of our parameters\n",
        "\n",
        "A **Bayesian model** consists of two things:\n",
        "\n",
        " 1. a likelihood: $L(y \\mid \\theta)$\n",
        " 2. a prior: $\\pi(\\theta)$\n",
        "\n",
        "After we apply Bayes' rule, we will obtain the **posterior**: $\\pi(\\theta \\mid y)$\n",
        "\n",
        "\n"
      ]
    },
    {
      "cell_type": "markdown",
      "id": "378828ed",
      "metadata": {
        "panel-layout": {
          "height": 251.60000610351562,
          "visible": true,
          "width": 100
        },
        "id": "378828ed"
      },
      "source": [
        "## Starting Simply\n",
        "\n",
        "\n",
        "### The likelihood:  $L(y \\mid \\theta)$\n",
        "\n",
        " - pick this based on what your data look like\n",
        "\n",
        "\n",
        "### The prior: $\\pi(\\theta)$\n",
        "\n",
        " - describes your beliefs about $\\theta$ **before conditioning on data**\n",
        " - specific formula depends on what is chosen\n",
        "\n",
        "\n",
        "### The posterior : $\\pi(\\theta \\mid y)$\n",
        "\n",
        " - describes your beliefs about $\\theta$ **after conditioning on data**\n"
      ]
    },
    {
      "cell_type": "markdown",
      "id": "81a21554",
      "metadata": {
        "panel-layout": {
          "height": 274.7833251953125,
          "visible": true,
          "width": 100
        },
        "id": "81a21554"
      },
      "source": [
        "## Starting Simply\n",
        "\n",
        "The posterior can then be used for creating parameter intervals, parameter point estimates, predictions and forecasts.\n",
        "\n",
        "It is the primary goal because it is the first stepping stone.\n",
        "\n",
        "On the other hand, frequentists:\n",
        "\n",
        "   - do not believe in putting distributions on the unknown parameters\n",
        "   - No prior or posterior for them!\n",
        "   - Likelihood is not a distribution conditional on $\\theta$\n",
        "   - i.e. $L(y ; \\theta)$  instead of $L(y \\mid \\theta)$ even though specific choice function can be written identically\n",
        "   - primarily interested in **optimizing** $L(y ; \\theta)$\n",
        "\n"
      ]
    },
    {
      "cell_type": "markdown",
      "id": "0f8c8ab2",
      "metadata": {
        "panel-layout": {
          "height": 321.0833435058594,
          "visible": true,
          "width": 100
        },
        "id": "0f8c8ab2"
      },
      "source": [
        "## Required Math Tool 1\n",
        "\n",
        "\n",
        "The vertical bar in the above notation represents **conditioning**.\n",
        "\n",
        " - $L(y \\mid \\theta)$ is the conditional distribution of the data **given** a particular $\\theta$\n",
        " - $\\pi(\\theta \\mid y)$ is the conditional distribution of the parameter **given** the data set you observed $y$\n",
        "\n",
        "Suppose $p(y, \\theta)$ is the distribution of both quantities, neither one conditioning on the other. Then\n",
        "\n",
        "$\n",
        "\\begin{align*}\n",
        "L(y \\mid \\theta) = \\frac{p(y, \\theta)}{\\pi(\\theta)}\n",
        "\\end{align*}\n",
        "$\n",
        "\n",
        "\n",
        "\n",
        "\n",
        "Intuition: a Venn diagram."
      ]
    },
    {
      "cell_type": "markdown",
      "id": "cd354e3c",
      "metadata": {
        "panel-layout": {
          "height": 288.1499938964844,
          "visible": true,
          "width": 100
        },
        "id": "cd354e3c"
      },
      "source": [
        "## Required Math Tool 1\n",
        "\n",
        "### For arbitrary random variables $A,B$ and $C$\n",
        "\n",
        "  - In general:  $p(A,B) = p(A \\mid B)p(B)$\n",
        "  - or $p(A,B) = p(B \\mid A)p(A)$\n",
        "  - if the two sets are **independent:** $p(A,B) = p(A)p(B)$\n",
        "\n",
        "### A little fancier\n",
        "\n",
        " - always: $p(A,B \\mid C) = p(A \\mid B, C) p(B \\mid C)$\n",
        " - if $A$ and $B$ are **conditionally independendent** given $C$: $p(A,B \\mid C) = p(A \\mid C) p(B \\mid C)$\n",
        "\n",
        "\n",
        "\n",
        "Independence and conditional independence aren't always true. Assuming then is often done in models for tractability.\n",
        "\n",
        "\n",
        "\n",
        "\n"
      ]
    },
    {
      "cell_type": "markdown",
      "id": "84d20408",
      "metadata": {
        "panel-layout": {
          "height": 142.73333740234375,
          "visible": true,
          "width": 100
        },
        "id": "84d20408"
      },
      "source": [
        "## Required Math Tool 2\n",
        "\n",
        "\n",
        "**Integration** takes us from \"joint\" distributions to \"marginal\" ones.\n",
        "\n",
        "Example, we integrate out $\\theta$ from the joint distribution:\n",
        "\n",
        " - $p(y) =  \\int p(y, \\theta) \\text{d}\\theta = \\int L(y \\mid \\theta)\\pi(\\theta) \\text{d}\\theta$\n",
        "\n",
        "\n"
      ]
    },
    {
      "cell_type": "markdown",
      "id": "f5404683",
      "metadata": {
        "panel-layout": {
          "height": 233.63333129882812,
          "visible": true,
          "width": 100
        },
        "id": "f5404683"
      },
      "source": [
        "## Bayes' Rule\n",
        "\n",
        "All of these are Bayes' rule\n",
        "\n",
        "$\n",
        "\\begin{align}\n",
        "\\pi(\\theta \\mid y)\n",
        "&= \\frac{L(y \\mid \\theta) \\pi(\\theta) }{p(y)} \\\\\n",
        "&= \\frac{L(y \\mid \\theta) \\pi(\\theta) }{\\int L(y \\mid \\theta)\\pi(\\theta) \\text{d}\\theta} \\\\\n",
        "&\\propto  L(y \\mid \\theta) \\pi(\\theta) \\\\\n",
        "\\end{align}\n",
        "$\n"
      ]
    },
    {
      "cell_type": "markdown",
      "id": "f99fe4f5",
      "metadata": {
        "panel-layout": {
          "height": 269.6333312988281,
          "visible": true,
          "width": 100
        },
        "id": "f99fe4f5"
      },
      "source": [
        "## Finding The Posterior\n",
        "\n",
        "\n",
        "What does $\\pi(\\theta \\mid y) \\propto L(y \\mid \\theta) \\pi(\\theta)$ mean **in practice**?\n",
        "\n",
        "It depends on your model and your data!\n",
        "\n",
        "Here are our three situations:\n",
        "\n",
        "  1. If you know $p(y)$, there is an exact formula for $\\pi(\\theta \\mid y)$\n",
        "  2. If you don't, you pick an algorithm that let's you draw samples from $\\pi(\\theta \\mid y)$,\n",
        "  3. If you don't, you can also pick an algorithm that provides a $q(\\theta)$ that is provably \"close\" to $\\pi(\\theta \\mid y)$\n",
        "\n",
        "\n",
        "If you don't, the last resort is to just optimize $\\pi(\\theta \\mid y)$, but then you're not getting the whole posterior.\n",
        "\n",
        "\n"
      ]
    },
    {
      "cell_type": "markdown",
      "id": "149c4323",
      "metadata": {
        "panel-layout": {
          "height": 269.6333312988281,
          "visible": true,
          "width": 100
        },
        "id": "149c4323"
      },
      "source": [
        "## Finding The Posterior\n",
        "\n",
        "\n",
        "The three situations:\n",
        "\n",
        "  1. If you know $p(y)$, there is an exact formula for $\\pi(\\theta \\mid y)$\n",
        "  2. If you don't, you pick an algorithm that let's you draw samples from $\\pi(\\theta \\mid y)$,\n",
        "  3. If you don't, you can also pick an algorithm that provides a $q(\\theta)$ that is provably \"close\" to $\\pi(\\theta \\mid y)$\n",
        "  \n",
        "  \n",
        " \"Knowing\" $p(y) = \\int L(y \\mid \\theta)\\pi(\\theta) \\text{d}\\theta$ means you can write a function that evaluates it exactly.\n",
        "\n",
        "Take in any $y$, return the exact `float`.\n",
        "\n",
        "Possible iff you can solve the integral."
      ]
    },
    {
      "cell_type": "markdown",
      "id": "b278f27f",
      "metadata": {
        "panel-layout": {
          "height": 221.63333129882812,
          "visible": true,
          "width": 100
        },
        "id": "b278f27f"
      },
      "source": [
        "## Historical and Computing Considerations\n",
        "\n",
        " - Situation 1 is uncommon, but understanding the math is important for many models and algorithms\n",
        " - Situation 2 has stronger theoretical guarantees than Situation 3, but is less \"scalable\" in practice\n",
        "     - when parameter space is strange\n",
        "     - when parameter space is high-dimensional\n",
        "     - when your data is massive\n",
        " - Situation 2 is favored in some areas, while situation 3 is favored in other areas. People tend to specialize in one or the other"
      ]
    },
    {
      "cell_type": "markdown",
      "id": "178b10b3",
      "metadata": {
        "panel-layout": {
          "height": 118.73333740234375,
          "visible": true,
          "width": 100
        },
        "id": "178b10b3"
      },
      "source": [
        "## Example 1: flip a (possibly unfair) coin once.\n",
        "\n",
        " - data: $y$ can take on values $\\{0, 1\\}$.\n",
        " - parameter: $\\theta$ probability of heads, somewhere between $0$ and $1$\n",
        " - likelihood $L(y \\mid \\theta)$ is $\\theta$ when $y$ is $1$. It's $1-\\theta$ otherwise.\n",
        "\n",
        "\n"
      ]
    },
    {
      "cell_type": "code",
      "execution_count": null,
      "id": "7b61eca0",
      "metadata": {
        "panel-layout": {
          "height": 27.150009155273438,
          "visible": true,
          "width": 100
        },
        "id": "7b61eca0",
        "outputId": "bdfb237a-f792-4902-91e1-8f669271e5a9"
      },
      "outputs": [
        {
          "data": {
            "text/plain": [
              "0.5001"
            ]
          },
          "execution_count": 1,
          "metadata": {},
          "output_type": "execute_result"
        }
      ],
      "source": [
        "## Example 1: flip a (possibly unfair) coin once.\n",
        "import numpy as np\n",
        "\n",
        "def likelihood_eval(y, theta):\n",
        "    \"\"\"writing a likelihood evaluator function\"\"\"\n",
        "    if np.isclose(y, 1):\n",
        "        return theta\n",
        "    elif np.isclose(y, 0.0):\n",
        "        return 1.0 - theta\n",
        "    else:\n",
        "        return 0\n",
        "likelihood_eval(1, .5001) # slightly biased towards heads!"
      ]
    },
    {
      "cell_type": "markdown",
      "id": "a003a9ce",
      "metadata": {
        "panel-layout": {
          "height": 233.79998779296875,
          "visible": true,
          "width": 100
        },
        "id": "a003a9ce"
      },
      "source": [
        "## Example 1: flip a (possibly unfair) coin once.\n",
        "\n",
        "### The prior\n",
        "\n",
        "Also pick a prior distribution $\\pi(\\theta)$. This represents our beliefs about what $\\theta$ could be. We should choose it before looking at any data whatsoever.\n",
        "\n",
        "I believe that\n",
        "\n",
        " - $\\theta$ is \"pretty close\" to $.5$\n",
        " - there's no way it can be $\\le 0$ or $\\ge 1$\n",
        "\n",
        "Let's use a **Beta distribution**."
      ]
    },
    {
      "cell_type": "code",
      "execution_count": null,
      "id": "bce91cd5",
      "metadata": {
        "panel-layout": {
          "height": 27.150009155273438,
          "visible": true,
          "width": 100
        },
        "id": "bce91cd5",
        "outputId": "cad70aad-782a-4ba4-d041-1df00b7089b7"
      },
      "outputs": [
        {
          "data": {
            "text/plain": [
              "5.014827504783157"
            ]
          },
          "execution_count": 2,
          "metadata": {},
          "output_type": "execute_result"
        }
      ],
      "source": [
        "## Example 1: flip a (possibly unfair) coin once.\n",
        "\n",
        "### The prior\n",
        "from scipy.stats import beta\n",
        "\n",
        "def my_prior(theta):\n",
        "    return beta.pdf(theta, 20, 20)\n",
        "\n",
        "my_prior(.5)"
      ]
    },
    {
      "cell_type": "markdown",
      "id": "d2ed7691",
      "metadata": {
        "panel-layout": {
          "height": 84.43333435058594,
          "visible": true,
          "width": 100
        },
        "id": "d2ed7691"
      },
      "source": [
        "## Visualizing the Prior Density\n",
        "\n",
        "![The prior](prior.png)"
      ]
    },
    {
      "cell_type": "code",
      "execution_count": null,
      "id": "dc26fc26",
      "metadata": {
        "panel-layout": {
          "height": 874,
          "visible": true,
          "width": 100
        },
        "id": "dc26fc26",
        "outputId": "0af0ba77-3245-43d8-aba8-1eb8d44f4540"
      },
      "outputs": [
        {
          "data": {
            "image/png": "[encoded data removed]",
            "text/plain": [
              "<Figure size 800x600 with 1 Axes>"
            ]
          },
          "metadata": {},
          "output_type": "display_data"
        }
      ],
      "source": [
        "## Example 1: flip a (possibly unfair) coin once.\n",
        "import matplotlib.pyplot as plt\n",
        "\n",
        "possible_thetas = np.linspace(0, 1, 1000)\n",
        "plt.figure(figsize=(8, 6))\n",
        "plt.plot(possible_thetas, my_prior(possible_thetas), 'r-', lw=2, label='prior density')\n",
        "plt.title('The prior'.format(20, 20))\n",
        "plt.xlabel('theta')\n",
        "plt.ylabel('prior density')\n",
        "plt.legend()\n",
        "plt.grid(True)\n",
        "plt.show()"
      ]
    },
    {
      "cell_type": "markdown",
      "id": "cf5aff94",
      "metadata": {
        "panel-layout": {
          "height": 84.43333435058594,
          "visible": true,
          "width": 100
        },
        "id": "cf5aff94"
      },
      "source": [
        "## Visualizing the Prior Density\n",
        "\n",
        "\n",
        "![The prior and likelihood](prior_and_likelihood.png)"
      ]
    },
    {
      "cell_type": "code",
      "execution_count": null,
      "id": "e515fd46",
      "metadata": {
        "panel-layout": {
          "height": 874,
          "visible": true,
          "width": 100
        },
        "id": "e515fd46",
        "outputId": "3e9fd36e-afd7-40bb-b8aa-d2733874ca96"
      },
      "outputs": [
        {
          "data": {
            "image/png": "[encoded data removed]",
            "text/plain": [
              "<Figure size 800x600 with 1 Axes>"
            ]
          },
          "metadata": {},
          "output_type": "display_data"
        }
      ],
      "source": [
        "## Example 1: flip a (possibly unfair) coin once.\n",
        "\n",
        "import matplotlib.pyplot as plt\n",
        "\n",
        "possible_thetas = np.linspace(0, 1, 1000)\n",
        "plt.figure(figsize=(8, 6))\n",
        "plt.plot(possible_thetas, [likelihood_eval(1, theta) for theta in possible_thetas], 'b-', lw=2, label='likelihood function')\n",
        "plt.plot(possible_thetas, my_prior(possible_thetas), 'r-', lw=2, label='prior density')\n",
        "plt.title('The prior'.format(20, 20))\n",
        "plt.xlabel('theta')\n",
        "plt.ylabel('prior density')\n",
        "plt.legend()\n",
        "plt.grid(True)\n",
        "plt.show()"
      ]
    },
    {
      "cell_type": "code",
      "execution_count": null,
      "id": "cbfd317d",
      "metadata": {
        "panel-layout": {
          "height": 874,
          "visible": true,
          "width": 100
        },
        "id": "cbfd317d",
        "outputId": "649af974-f2ab-48c0-f3e7-d82f21b926fb"
      },
      "outputs": [
        {
          "data": {
            "image/png": "[encoded data removed]",
            "text/plain": [
              "<Figure size 800x600 with 1 Axes>"
            ]
          },
          "metadata": {},
          "output_type": "display_data"
        }
      ],
      "source": [
        "## Example 1: flip a (possibly unfair) coin once.\n",
        "\n",
        "import numpy as np\n",
        "import matplotlib.pyplot as plt\n",
        "\n",
        "possible_thetas = np.linspace(0, 1, 1000)\n",
        "likes = [likelihood_eval(1, theta) for theta in possible_thetas]\n",
        "priors = my_prior(possible_thetas)\n",
        "posterior = beta.pdf(possible_thetas, 21,20)\n",
        "unnorm_post = likes * priors #TODO make this exercse\n",
        "\n",
        "plt.figure(figsize=(8, 6))\n",
        "plt.plot(possible_thetas, likes, 'b-', lw=2, label='likelihood function (y=1 fixed)')\n",
        "plt.plot(possible_thetas, priors, 'r-', lw=2, label='prior density')\n",
        "plt.plot(possible_thetas, posterior, 'g-', lw=2, label='posterior density')\n",
        "\n",
        "plt.title('Beliefs on theta'.format(20, 20))\n",
        "plt.xlabel('theta')\n",
        "plt.ylabel('')\n",
        "plt.legend()\n",
        "plt.grid(True)\n",
        "plt.show()"
      ]
    },
    {
      "cell_type": "markdown",
      "id": "76069a7c",
      "metadata": {
        "panel-layout": {
          "height": 84.43333435058594,
          "visible": true,
          "width": 100
        },
        "id": "76069a7c"
      },
      "source": [
        "## Visualizing all Three Functions\n",
        "\n",
        "\n",
        "![The prior, likelihood and posterior](all_three.png)"
      ]
    },
    {
      "cell_type": "markdown",
      "id": "40893f99",
      "metadata": {
        "editable": true,
        "panel-layout": {
          "height": 250.7833251953125,
          "visible": true,
          "width": 100
        },
        "tags": [],
        "id": "40893f99"
      },
      "source": [
        "## In Summary\n",
        "\n",
        "- $y$ can be have any shape, size or dimension!\n",
        "- So can $\\theta$\n",
        "- Sometimes we will have to break up data or parameters into chunks, which requires different notation\n",
        "- Frequentists directly maximize the likelihood $L(y \\mid \\theta)$\n",
        "- Choosing/designing a likelihood can be challenging\n",
        "- Bayesians have an extra responsibility of choosing a prior:  $\\pi(\\theta)$\n",
        "- a prior represents a person's beliefs before they see any data\n",
        "\n",
        "**Bayes' rule gives you a way to update your beliefs about $\\theta$ after you observed the data set you got!**"
      ]
    },
    {
      "cell_type": "markdown",
      "id": "c9db8d14-c8ff-446e-890e-c5fe3dd377ba",
      "metadata": {
        "editable": true,
        "panel-layout": {
          "height": 250.7833251953125,
          "visible": true,
          "width": 100
        },
        "tags": [],
        "id": "c9db8d14-c8ff-446e-890e-c5fe3dd377ba"
      },
      "source": [
        "### References\n",
        "\n",
        "[Bayesian Data Analysis 3](https://sites.stat.columbia.edu/gelman/book/BDA3.pdf) Chapters 2.1-2.4"
      ]
    }
  ],
  "metadata": {
    "celltoolbar": "Slideshow",
    "kernelspec": {
      "display_name": "Python 3 (ipykernel)",
      "language": "python",
      "name": "python3"
    },
    "language_info": {
      "codemirror_mode": {
        "name": "ipython",
        "version": 3
      },
      "file_extension": ".py",
      "mimetype": "text/x-python",
      "name": "python",
      "nbconvert_exporter": "python",
      "pygments_lexer": "ipython3",
      "version": "3.12.2"
    },
    "panel-cell-order": [
      "cc4eac79-ebd8-4015-bcc9-cd5d0162aed2",
      "538a7e1e",
      "351a1344-c638-4d78-a035-20da30afd9de",
      "73301110",
      "5e4183a8",
      "8a4cbffb",
      "378828ed",
      "81a21554",
      "0f8c8ab2",
      "cd354e3c",
      "84d20408",
      "f5404683",
      "f99fe4f5",
      "149c4323",
      "b278f27f",
      "178b10b3",
      "7b61eca0",
      "a003a9ce",
      "bce91cd5",
      "d2ed7691",
      "dc26fc26",
      "cf5aff94",
      "e515fd46",
      "cbfd317d",
      "76069a7c",
      "40893f99"
    ],
    "colab": {
      "provenance": [],
      "include_colab_link": true
    }
  },
  "nbformat": 4,
  "nbformat_minor": 5
}